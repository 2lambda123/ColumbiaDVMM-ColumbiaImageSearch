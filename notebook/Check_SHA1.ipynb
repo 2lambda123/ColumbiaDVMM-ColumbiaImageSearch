{
 "cells": [
  {
   "cell_type": "markdown",
   "metadata": {},
   "source": [
    "### Check all images related to a sha1 in HBase"
   ]
  },
  {
   "cell_type": "code",
   "execution_count": null,
   "metadata": {
    "collapsed": true
   },
   "outputs": [],
   "source": [
    "import happybase as hb\n",
    "import elasticsearch as es\n",
    "import json\n",
    "import matplotlib\n",
    "import matplotlib.pyplot as plt\n",
    "%matplotlib inline"
   ]
  },
  {
   "cell_type": "code",
   "execution_count": null,
   "metadata": {
    "collapsed": false
   },
   "outputs": [],
   "source": [
    "conf_fn = '../conf/global_var_remotehbase_release.json'\n",
    "sha1 = \"FDDADAD0CBB16245FB1BAB9CAFB8E87994CBA7A1\""
   ]
  },
  {
   "cell_type": "code",
   "execution_count": null,
   "metadata": {
    "collapsed": true
   },
   "outputs": [],
   "source": [
    "conf = json.load(open(conf_fn, 'rt'))"
   ]
  },
  {
   "cell_type": "code",
   "execution_count": null,
   "metadata": {
    "collapsed": true
   },
   "outputs": [],
   "source": [
    "def get_all_cdr_ids(sha1, conf):\n",
    "    conn = hb.Connection(conf['HBI_host'])\n",
    "    tab_sha1 = conn.table(conf['HBI_table_sha1infos'])\n",
    "    row = tab_sha1.row(sha1)\n",
    "    #print row\n",
    "    return row['info:all_cdr_ids']"
   ]
  },
  {
   "cell_type": "code",
   "execution_count": null,
   "metadata": {
    "collapsed": true
   },
   "outputs": [],
   "source": [
    "def get_s3urls_cdr_ids(cdr_ids, conf):\n",
    "    from elasticsearch import Elasticsearch\n",
    "    els_user = conf['ist_els_user']\n",
    "    els_pass = conf['ist_els_pass']\n",
    "    els_instance = conf['ist_els_instance']\n",
    "    els_index = conf['ist_els_index']\n",
    "    els_doc_type = conf['ist_els_doc_type']\n",
    "    query = \"{\\\"fields\\\": [\\\"obj_stored_url\\\"], \\\"query\\\": { \\\"ids\\\": { \\\"values\\\": [\\\"\"+'\\\",\\\"'.join(cdr_ids.split(','))+\"\\\"]}}}\"\n",
    "    #print query\n",
    "    es = Elasticsearch('https://'+els_user+':'+els_pass+'@'+els_instance)\n",
    "    response = es.search(index=els_index,doc_type=els_doc_type,body=query)\n",
    "    #print response\n",
    "    # in hits-hits\n",
    "    image_list = []\n",
    "    for image in response['hits']['hits']:\n",
    "        #print image\n",
    "        # get _id and fields-obj_stored_url\n",
    "        image_list.append((image['_id'],image['fields']['obj_stored_url']))\n",
    "    return image_list"
   ]
  },
  {
   "cell_type": "code",
   "execution_count": null,
   "metadata": {
    "collapsed": true
   },
   "outputs": [],
   "source": [
    "def dl_image(s3_url):\n",
    "    # download with boto, read from bytes to PIL image\n",
    "    import boto3\n",
    "    import cStringIO\n",
    "    from PIL import Image\n",
    "    s3_res = boto3.resource('s3')\n",
    "    s3_clt = boto3.client('s3')\n",
    "    try:\n",
    "        s3_spl = s3_url.split(\"/\")\n",
    "        try:\n",
    "          bucket_pos = s3_spl.index('s3.amazonaws.com')+1\n",
    "        except:\n",
    "          print \"{} is not a s3 url.\".format(s3_url)\n",
    "          return None\n",
    "        bucket = s3_spl[bucket_pos]\n",
    "        key = '/'.join(s3_spl[bucket_pos+1:])\n",
    "        buffer = cStringIO.StringIO()\n",
    "        s3_clt.download_fileobj(bucket, key, buffer)\n",
    "        img = Image.open(buffer)\n",
    "        # # for debugging\n",
    "        # s3_img_obj = s3_res.Object(bucket, key)\n",
    "        # ctype = s3_img_obj.content_type\n",
    "        # nb_bytes = s3_img_obj.content_length\n",
    "        # #print bucket, key, ctype, nb_bytes, img.size\n",
    "        return img\n",
    "    except Exception as err:\n",
    "        print \"Could not download image from {}. Error was: {}\".format(s3_url, err)\n",
    "        return None"
   ]
  },
  {
   "cell_type": "code",
   "execution_count": null,
   "metadata": {
    "collapsed": false
   },
   "outputs": [],
   "source": [
    "def disp_image_list(image_list, sha1):\n",
    "    #from matplotlib.pyplot import imshow\n",
    "    from IPython.display import display\n",
    "    imgs = []\n",
    "    for img_sha1,s3_url in image_list:\n",
    "        imgs.append(dl_image(str(s3_url[0])))\n",
    "    display(*imgs)"
   ]
  },
  {
   "cell_type": "markdown",
   "metadata": {},
   "source": [
    "### Run things"
   ]
  },
  {
   "cell_type": "code",
   "execution_count": null,
   "metadata": {
    "collapsed": false
   },
   "outputs": [],
   "source": [
    "cdr_ids = get_all_cdr_ids(sha1, conf)\n",
    "#print cdr_ids"
   ]
  },
  {
   "cell_type": "code",
   "execution_count": null,
   "metadata": {
    "collapsed": false
   },
   "outputs": [],
   "source": [
    "image_list = get_s3urls_cdr_ids(cdr_ids, conf)"
   ]
  },
  {
   "cell_type": "code",
   "execution_count": null,
   "metadata": {
    "collapsed": false
   },
   "outputs": [],
   "source": [
    "disp_image_list(image_list, sha1)"
   ]
  }
 ],
 "metadata": {
  "kernelspec": {
   "display_name": "Python 2",
   "language": "python",
   "name": "python2"
  },
  "language_info": {
   "codemirror_mode": {
    "name": "ipython",
    "version": 2
   },
   "file_extension": ".py",
   "mimetype": "text/x-python",
   "name": "python",
   "nbconvert_exporter": "python",
   "pygments_lexer": "ipython2",
   "version": "2.7.12"
  }
 },
 "nbformat": 4,
 "nbformat_minor": 0
}
